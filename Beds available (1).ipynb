{
 "cells": [
  {
   "cell_type": "code",
   "execution_count": 5,
   "id": "0a76fd9c",
   "metadata": {},
   "outputs": [],
   "source": [
    "import pandas as pd"
   ]
  },
  {
   "cell_type": "code",
   "execution_count": 6,
   "id": "4cb33987",
   "metadata": {},
   "outputs": [],
   "source": [
    "df=pd.read_csv('Beds available.csv')"
   ]
  },
  {
   "cell_type": "code",
   "execution_count": 7,
   "id": "e10e7316",
   "metadata": {},
   "outputs": [
    {
     "name": "stdout",
     "output_type": "stream",
     "text": [
      "<class 'pandas.core.frame.DataFrame'>\n",
      "RangeIndex: 38 entries, 0 to 37\n",
      "Data columns (total 3 columns):\n",
      " #   Column         Non-Null Count  Dtype \n",
      "---  ------         --------------  ----- \n",
      " 0   District       38 non-null     object\n",
      " 1   Govt.Hospital  38 non-null     int64 \n",
      " 2   Pvt.Hospital   38 non-null     int64 \n",
      "dtypes: int64(2), object(1)\n",
      "memory usage: 1.0+ KB\n"
     ]
    }
   ],
   "source": [
    "df.info()"
   ]
  },
  {
   "cell_type": "code",
   "execution_count": 8,
   "id": "38fdd27f",
   "metadata": {
    "scrolled": true
   },
   "outputs": [
    {
     "data": {
      "text/html": [
       "<div>\n",
       "<style scoped>\n",
       "    .dataframe tbody tr th:only-of-type {\n",
       "        vertical-align: middle;\n",
       "    }\n",
       "\n",
       "    .dataframe tbody tr th {\n",
       "        vertical-align: top;\n",
       "    }\n",
       "\n",
       "    .dataframe thead th {\n",
       "        text-align: right;\n",
       "    }\n",
       "</style>\n",
       "<table border=\"1\" class=\"dataframe\">\n",
       "  <thead>\n",
       "    <tr style=\"text-align: right;\">\n",
       "      <th></th>\n",
       "      <th>District</th>\n",
       "      <th>Govt.Hospital</th>\n",
       "      <th>Pvt.Hospital</th>\n",
       "    </tr>\n",
       "  </thead>\n",
       "  <tbody>\n",
       "    <tr>\n",
       "      <th>0</th>\n",
       "      <td>Ariyalur</td>\n",
       "      <td>829</td>\n",
       "      <td>241</td>\n",
       "    </tr>\n",
       "    <tr>\n",
       "      <th>1</th>\n",
       "      <td>Chengalpattu</td>\n",
       "      <td>5712</td>\n",
       "      <td>3152</td>\n",
       "    </tr>\n",
       "    <tr>\n",
       "      <th>2</th>\n",
       "      <td>Chennai</td>\n",
       "      <td>16966</td>\n",
       "      <td>10340</td>\n",
       "    </tr>\n",
       "    <tr>\n",
       "      <th>3</th>\n",
       "      <td>Coimbatore</td>\n",
       "      <td>4881</td>\n",
       "      <td>5648</td>\n",
       "    </tr>\n",
       "    <tr>\n",
       "      <th>4</th>\n",
       "      <td>Cuddalur</td>\n",
       "      <td>3676</td>\n",
       "      <td>1395</td>\n",
       "    </tr>\n",
       "    <tr>\n",
       "      <th>5</th>\n",
       "      <td>Dharmapuri</td>\n",
       "      <td>2060</td>\n",
       "      <td>305</td>\n",
       "    </tr>\n",
       "    <tr>\n",
       "      <th>6</th>\n",
       "      <td>Dindugal</td>\n",
       "      <td>2417</td>\n",
       "      <td>1015</td>\n",
       "    </tr>\n",
       "    <tr>\n",
       "      <th>7</th>\n",
       "      <td>Erode</td>\n",
       "      <td>4509</td>\n",
       "      <td>1152</td>\n",
       "    </tr>\n",
       "    <tr>\n",
       "      <th>8</th>\n",
       "      <td>Kallakurichi</td>\n",
       "      <td>5309</td>\n",
       "      <td>122</td>\n",
       "    </tr>\n",
       "    <tr>\n",
       "      <th>9</th>\n",
       "      <td>Kanchipuram</td>\n",
       "      <td>3156</td>\n",
       "      <td>879</td>\n",
       "    </tr>\n",
       "    <tr>\n",
       "      <th>10</th>\n",
       "      <td>Kanyakumari</td>\n",
       "      <td>3018</td>\n",
       "      <td>1145</td>\n",
       "    </tr>\n",
       "    <tr>\n",
       "      <th>11</th>\n",
       "      <td>Karur</td>\n",
       "      <td>1773</td>\n",
       "      <td>409</td>\n",
       "    </tr>\n",
       "    <tr>\n",
       "      <th>12</th>\n",
       "      <td>Krishnagiri</td>\n",
       "      <td>1577</td>\n",
       "      <td>780</td>\n",
       "    </tr>\n",
       "    <tr>\n",
       "      <th>13</th>\n",
       "      <td>Madurai</td>\n",
       "      <td>4630</td>\n",
       "      <td>6353</td>\n",
       "    </tr>\n",
       "    <tr>\n",
       "      <th>14</th>\n",
       "      <td>Mylaadudurai</td>\n",
       "      <td>115</td>\n",
       "      <td>19</td>\n",
       "    </tr>\n",
       "    <tr>\n",
       "      <th>15</th>\n",
       "      <td>Nagapattinam</td>\n",
       "      <td>980</td>\n",
       "      <td>59</td>\n",
       "    </tr>\n",
       "    <tr>\n",
       "      <th>16</th>\n",
       "      <td>Namakkal</td>\n",
       "      <td>2120</td>\n",
       "      <td>393</td>\n",
       "    </tr>\n",
       "    <tr>\n",
       "      <th>17</th>\n",
       "      <td>Nilgiris</td>\n",
       "      <td>1427</td>\n",
       "      <td>353</td>\n",
       "    </tr>\n",
       "    <tr>\n",
       "      <th>18</th>\n",
       "      <td>Paerambalur</td>\n",
       "      <td>984</td>\n",
       "      <td>190</td>\n",
       "    </tr>\n",
       "    <tr>\n",
       "      <th>19</th>\n",
       "      <td>Pudukottai</td>\n",
       "      <td>2218</td>\n",
       "      <td>370</td>\n",
       "    </tr>\n",
       "    <tr>\n",
       "      <th>20</th>\n",
       "      <td>Ramanadhapuram</td>\n",
       "      <td>1428</td>\n",
       "      <td>430</td>\n",
       "    </tr>\n",
       "    <tr>\n",
       "      <th>21</th>\n",
       "      <td>Ranipaet</td>\n",
       "      <td>2063</td>\n",
       "      <td>340</td>\n",
       "    </tr>\n",
       "    <tr>\n",
       "      <th>22</th>\n",
       "      <td>Salem</td>\n",
       "      <td>4074</td>\n",
       "      <td>3051</td>\n",
       "    </tr>\n",
       "    <tr>\n",
       "      <th>23</th>\n",
       "      <td>Sivagangai</td>\n",
       "      <td>1805</td>\n",
       "      <td>628</td>\n",
       "    </tr>\n",
       "    <tr>\n",
       "      <th>24</th>\n",
       "      <td>Thenkaasi</td>\n",
       "      <td>1393</td>\n",
       "      <td>99</td>\n",
       "    </tr>\n",
       "    <tr>\n",
       "      <th>25</th>\n",
       "      <td>Thanjavur</td>\n",
       "      <td>3862</td>\n",
       "      <td>922</td>\n",
       "    </tr>\n",
       "    <tr>\n",
       "      <th>26</th>\n",
       "      <td>Theni</td>\n",
       "      <td>2032</td>\n",
       "      <td>128</td>\n",
       "    </tr>\n",
       "    <tr>\n",
       "      <th>27</th>\n",
       "      <td>Thiruchirapalli</td>\n",
       "      <td>3547</td>\n",
       "      <td>1909</td>\n",
       "    </tr>\n",
       "    <tr>\n",
       "      <th>28</th>\n",
       "      <td>Thirupaththur</td>\n",
       "      <td>3301</td>\n",
       "      <td>1259</td>\n",
       "    </tr>\n",
       "    <tr>\n",
       "      <th>29</th>\n",
       "      <td>Thiruvaarur</td>\n",
       "      <td>1951</td>\n",
       "      <td>147</td>\n",
       "    </tr>\n",
       "    <tr>\n",
       "      <th>30</th>\n",
       "      <td>Tutukudi</td>\n",
       "      <td>2271</td>\n",
       "      <td>655</td>\n",
       "    </tr>\n",
       "    <tr>\n",
       "      <th>31</th>\n",
       "      <td>Thirunelveli</td>\n",
       "      <td>2132</td>\n",
       "      <td>794</td>\n",
       "    </tr>\n",
       "    <tr>\n",
       "      <th>32</th>\n",
       "      <td>Thirupur</td>\n",
       "      <td>1785</td>\n",
       "      <td>1177</td>\n",
       "    </tr>\n",
       "    <tr>\n",
       "      <th>33</th>\n",
       "      <td>Thiruvallur</td>\n",
       "      <td>2766</td>\n",
       "      <td>1270</td>\n",
       "    </tr>\n",
       "    <tr>\n",
       "      <th>34</th>\n",
       "      <td>Thiruvannamalai</td>\n",
       "      <td>2279</td>\n",
       "      <td>421</td>\n",
       "    </tr>\n",
       "    <tr>\n",
       "      <th>35</th>\n",
       "      <td>Vellore</td>\n",
       "      <td>3487</td>\n",
       "      <td>1480</td>\n",
       "    </tr>\n",
       "    <tr>\n",
       "      <th>36</th>\n",
       "      <td>Vilupuram</td>\n",
       "      <td>2199</td>\n",
       "      <td>42</td>\n",
       "    </tr>\n",
       "    <tr>\n",
       "      <th>37</th>\n",
       "      <td>Viruthunagar</td>\n",
       "      <td>2146</td>\n",
       "      <td>733</td>\n",
       "    </tr>\n",
       "  </tbody>\n",
       "</table>\n",
       "</div>"
      ],
      "text/plain": [
       "           District  Govt.Hospital  Pvt.Hospital\n",
       "0          Ariyalur            829           241\n",
       "1      Chengalpattu           5712          3152\n",
       "2           Chennai          16966         10340\n",
       "3        Coimbatore           4881          5648\n",
       "4          Cuddalur           3676          1395\n",
       "5        Dharmapuri           2060           305\n",
       "6          Dindugal           2417          1015\n",
       "7             Erode           4509          1152\n",
       "8      Kallakurichi           5309           122\n",
       "9       Kanchipuram           3156           879\n",
       "10      Kanyakumari           3018          1145\n",
       "11            Karur           1773           409\n",
       "12      Krishnagiri           1577           780\n",
       "13          Madurai           4630          6353\n",
       "14     Mylaadudurai            115            19\n",
       "15     Nagapattinam            980            59\n",
       "16         Namakkal           2120           393\n",
       "17         Nilgiris           1427           353\n",
       "18      Paerambalur            984           190\n",
       "19       Pudukottai           2218           370\n",
       "20   Ramanadhapuram           1428           430\n",
       "21         Ranipaet           2063           340\n",
       "22            Salem           4074          3051\n",
       "23       Sivagangai           1805           628\n",
       "24        Thenkaasi           1393            99\n",
       "25        Thanjavur           3862           922\n",
       "26            Theni           2032           128\n",
       "27  Thiruchirapalli           3547          1909\n",
       "28    Thirupaththur           3301          1259\n",
       "29      Thiruvaarur           1951           147\n",
       "30         Tutukudi           2271           655\n",
       "31     Thirunelveli           2132           794\n",
       "32         Thirupur           1785          1177\n",
       "33      Thiruvallur           2766          1270\n",
       "34  Thiruvannamalai           2279           421\n",
       "35          Vellore           3487          1480\n",
       "36        Vilupuram           2199            42\n",
       "37     Viruthunagar           2146           733"
      ]
     },
     "execution_count": 8,
     "metadata": {},
     "output_type": "execute_result"
    }
   ],
   "source": [
    "df"
   ]
  },
  {
   "cell_type": "code",
   "execution_count": 47,
   "id": "3c171c9a",
   "metadata": {},
   "outputs": [],
   "source": [
    "import matplotlib.pyplot as plt"
   ]
  },
  {
   "cell_type": "code",
   "execution_count": 10,
   "id": "dc87ce84",
   "metadata": {},
   "outputs": [
    {
     "data": {
      "text/plain": [
       "Text(0, 0.5, 'BEDS')"
      ]
     },
     "execution_count": 10,
     "metadata": {},
     "output_type": "execute_result"
    },
    {
     "data": {
      "image/png": "[encoded data removed]",
      "text/plain": [
       "<Figure size 1440x360 with 1 Axes>"
      ]
     },
     "metadata": {
      "needs_background": "light"
     },
     "output_type": "display_data"
    }
   ],
   "source": [
    "df.plot.bar(figsize=(20,5))\n",
    "plt.title('Beds available')\n",
    "plt.xlabel('DISTRICT')\n",
    "plt.ylabel('BEDS')"
   ]
  },
  {
   "cell_type": "code",
   "execution_count": 12,
   "id": "fd89e476",
   "metadata": {},
   "outputs": [
    {
     "data": {
      "text/plain": [
       "Text(0.5, 1.0, 'Beds available')"
      ]
     },
     "execution_count": 12,
     "metadata": {},
     "output_type": "execute_result"
    },
    {
     "data": {
      "image/png": "[encoded data removed]",
      "text/plain": [
       "<Figure size 720x360 with 2 Axes>"
      ]
     },
     "metadata": {
      "needs_background": "light"
     },
     "output_type": "display_data"
    }
   ],
   "source": [
    "beds = df.plot.line(figsize=(10, 5), subplots=True, marker=\"*\")\n",
    "\n",
    "plt.title('Beds available')"
   ]
  },
  {
   "cell_type": "code",
   "execution_count": 13,
   "id": "a51fdee6",
   "metadata": {},
   "outputs": [
    {
     "data": {
      "image/png": "[encoded data removed]",
      "text/plain": [
       "<Figure size 720x360 with 2 Axes>"
      ]
     },
     "metadata": {
      "needs_background": "light"
     },
     "output_type": "display_data"
    }
   ],
   "source": [
    "dna=df.head(4)\n",
    "beds = dna.plot.line(figsize=(10, 5), subplots=True, marker=\"^\")"
   ]
  },
  {
   "cell_type": "code",
   "execution_count": 53,
   "id": "ee6259ba",
   "metadata": {},
   "outputs": [
    {
     "data": {
      "text/html": [
       "<div>\n",
       "<style scoped>\n",
       "    .dataframe tbody tr th:only-of-type {\n",
       "        vertical-align: middle;\n",
       "    }\n",
       "\n",
       "    .dataframe tbody tr th {\n",
       "        vertical-align: top;\n",
       "    }\n",
       "\n",
       "    .dataframe thead th {\n",
       "        text-align: right;\n",
       "    }\n",
       "</style>\n",
       "<table border=\"1\" class=\"dataframe\">\n",
       "  <thead>\n",
       "    <tr style=\"text-align: right;\">\n",
       "      <th></th>\n",
       "      <th>Govt.Hospital</th>\n",
       "      <th>Pvt.Hospital</th>\n",
       "    </tr>\n",
       "  </thead>\n",
       "  <tbody>\n",
       "    <tr>\n",
       "      <th>count</th>\n",
       "      <td>38.000000</td>\n",
       "      <td>38.000000</td>\n",
       "    </tr>\n",
       "    <tr>\n",
       "      <th>mean</th>\n",
       "      <td>2970.473684</td>\n",
       "      <td>1310.657895</td>\n",
       "    </tr>\n",
       "    <tr>\n",
       "      <th>std</th>\n",
       "      <td>2666.502454</td>\n",
       "      <td>2044.859082</td>\n",
       "    </tr>\n",
       "    <tr>\n",
       "      <th>min</th>\n",
       "      <td>115.000000</td>\n",
       "      <td>19.000000</td>\n",
       "    </tr>\n",
       "    <tr>\n",
       "      <th>25%</th>\n",
       "      <td>1790.000000</td>\n",
       "      <td>313.750000</td>\n",
       "    </tr>\n",
       "    <tr>\n",
       "      <th>50%</th>\n",
       "      <td>2208.500000</td>\n",
       "      <td>694.000000</td>\n",
       "    </tr>\n",
       "    <tr>\n",
       "      <th>75%</th>\n",
       "      <td>3532.000000</td>\n",
       "      <td>1238.500000</td>\n",
       "    </tr>\n",
       "    <tr>\n",
       "      <th>max</th>\n",
       "      <td>16966.000000</td>\n",
       "      <td>10340.000000</td>\n",
       "    </tr>\n",
       "  </tbody>\n",
       "</table>\n",
       "</div>"
      ],
      "text/plain": [
       "       Govt.Hospital  Pvt.Hospital\n",
       "count      38.000000     38.000000\n",
       "mean     2970.473684   1310.657895\n",
       "std      2666.502454   2044.859082\n",
       "min       115.000000     19.000000\n",
       "25%      1790.000000    313.750000\n",
       "50%      2208.500000    694.000000\n",
       "75%      3532.000000   1238.500000\n",
       "max     16966.000000  10340.000000"
      ]
     },
     "execution_count": 53,
     "metadata": {},
     "output_type": "execute_result"
    }
   ],
   "source": [
    "df.describe()"
   ]
  },
  {
   "cell_type": "code",
   "execution_count": 60,
   "id": "60dbceac",
   "metadata": {},
   "outputs": [
    {
     "name": "stdout",
     "output_type": "stream",
     "text": [
      "(0, District         Ariyalur\n",
      "Govt.Hospital         829\n",
      "Pvt.Hospital          241\n",
      "Name: 0, dtype: object)\n",
      "(1, District         Chengalpattu\n",
      "Govt.Hospital            5712\n",
      "Pvt.Hospital             3152\n",
      "Name: 1, dtype: object)\n",
      "(2, District         Chennai\n",
      "Govt.Hospital      16966\n",
      "Pvt.Hospital       10340\n",
      "Name: 2, dtype: object)\n",
      "(3, District         Coimbatore\n",
      "Govt.Hospital          4881\n",
      "Pvt.Hospital           5648\n",
      "Name: 3, dtype: object)\n",
      "(4, District         Cuddalur\n",
      "Govt.Hospital        3676\n",
      "Pvt.Hospital         1395\n",
      "Name: 4, dtype: object)\n",
      "(5, District         Dharmapuri\n",
      "Govt.Hospital          2060\n",
      "Pvt.Hospital            305\n",
      "Name: 5, dtype: object)\n",
      "(6, District         Dindugal\n",
      "Govt.Hospital        2417\n",
      "Pvt.Hospital         1015\n",
      "Name: 6, dtype: object)\n",
      "(7, District         Erode\n",
      "Govt.Hospital     4509\n",
      "Pvt.Hospital      1152\n",
      "Name: 7, dtype: object)\n",
      "(8, District         Kallakurichi\n",
      "Govt.Hospital            5309\n",
      "Pvt.Hospital              122\n",
      "Name: 8, dtype: object)\n",
      "(9, District         Kanchipuram\n",
      "Govt.Hospital           3156\n",
      "Pvt.Hospital             879\n",
      "Name: 9, dtype: object)\n",
      "(10, District         Kanyakumari\n",
      "Govt.Hospital           3018\n",
      "Pvt.Hospital            1145\n",
      "Name: 10, dtype: object)\n",
      "(11, District         Karur\n",
      "Govt.Hospital     1773\n",
      "Pvt.Hospital       409\n",
      "Name: 11, dtype: object)\n",
      "(12, District         Krishnagiri\n",
      "Govt.Hospital           1577\n",
      "Pvt.Hospital             780\n",
      "Name: 12, dtype: object)\n",
      "(13, District         Madurai\n",
      "Govt.Hospital       4630\n",
      "Pvt.Hospital        6353\n",
      "Name: 13, dtype: object)\n",
      "(14, District         Mylaadudurai\n",
      "Govt.Hospital             115\n",
      "Pvt.Hospital               19\n",
      "Name: 14, dtype: object)\n",
      "(15, District         Nagapattinam\n",
      "Govt.Hospital             980\n",
      "Pvt.Hospital               59\n",
      "Name: 15, dtype: object)\n",
      "(16, District         Namakkal\n",
      "Govt.Hospital        2120\n",
      "Pvt.Hospital          393\n",
      "Name: 16, dtype: object)\n",
      "(17, District         Nilgiris\n",
      "Govt.Hospital        1427\n",
      "Pvt.Hospital          353\n",
      "Name: 17, dtype: object)\n",
      "(18, District         Paerambalur\n",
      "Govt.Hospital            984\n",
      "Pvt.Hospital             190\n",
      "Name: 18, dtype: object)\n",
      "(19, District         Pudukottai\n",
      "Govt.Hospital          2218\n",
      "Pvt.Hospital            370\n",
      "Name: 19, dtype: object)\n",
      "(20, District         Ramanadhapuram\n",
      "Govt.Hospital              1428\n",
      "Pvt.Hospital                430\n",
      "Name: 20, dtype: object)\n",
      "(21, District         Ranipaet\n",
      "Govt.Hospital        2063\n",
      "Pvt.Hospital          340\n",
      "Name: 21, dtype: object)\n",
      "(22, District         Salem\n",
      "Govt.Hospital     4074\n",
      "Pvt.Hospital      3051\n",
      "Name: 22, dtype: object)\n",
      "(23, District         Sivagangai\n",
      "Govt.Hospital          1805\n",
      "Pvt.Hospital            628\n",
      "Name: 23, dtype: object)\n",
      "(24, District         Thenkaasi\n",
      "Govt.Hospital         1393\n",
      "Pvt.Hospital            99\n",
      "Name: 24, dtype: object)\n",
      "(25, District         Thanjavur\n",
      "Govt.Hospital         3862\n",
      "Pvt.Hospital           922\n",
      "Name: 25, dtype: object)\n",
      "(26, District         Theni\n",
      "Govt.Hospital     2032\n",
      "Pvt.Hospital       128\n",
      "Name: 26, dtype: object)\n",
      "(27, District         Thiruchirapalli\n",
      "Govt.Hospital               3547\n",
      "Pvt.Hospital                1909\n",
      "Name: 27, dtype: object)\n",
      "(28, District         Thirupaththur\n",
      "Govt.Hospital             3301\n",
      "Pvt.Hospital              1259\n",
      "Name: 28, dtype: object)\n",
      "(29, District         Thiruvaarur\n",
      "Govt.Hospital           1951\n",
      "Pvt.Hospital             147\n",
      "Name: 29, dtype: object)\n",
      "(30, District         Tutukudi\n",
      "Govt.Hospital        2271\n",
      "Pvt.Hospital          655\n",
      "Name: 30, dtype: object)\n",
      "(31, District         Thirunelveli\n",
      "Govt.Hospital            2132\n",
      "Pvt.Hospital              794\n",
      "Name: 31, dtype: object)\n",
      "(32, District         Thirupur\n",
      "Govt.Hospital        1785\n",
      "Pvt.Hospital         1177\n",
      "Name: 32, dtype: object)\n",
      "(33, District         Thiruvallur\n",
      "Govt.Hospital           2766\n",
      "Pvt.Hospital            1270\n",
      "Name: 33, dtype: object)\n",
      "(34, District         Thiruvannamalai\n",
      "Govt.Hospital               2279\n",
      "Pvt.Hospital                 421\n",
      "Name: 34, dtype: object)\n",
      "(35, District         Vellore\n",
      "Govt.Hospital       3487\n",
      "Pvt.Hospital        1480\n",
      "Name: 35, dtype: object)\n",
      "(36, District         Vilupuram\n",
      "Govt.Hospital         2199\n",
      "Pvt.Hospital            42\n",
      "Name: 36, dtype: object)\n",
      "(37, District         Viruthunagar\n",
      "Govt.Hospital            2146\n",
      "Pvt.Hospital              733\n",
      "Name: 37, dtype: object)\n"
     ]
    }
   ],
   "source": [
    "for rows in df.iterrows():\n",
    "    print (rows)"
   ]
  },
  {
   "cell_type": "code",
   "execution_count": 48,
   "id": "49dad182",
   "metadata": {},
   "outputs": [],
   "source": [
    "df_Govmean = df[\"Govt.Hospital\"].mean()"
   ]
  },
  {
   "cell_type": "code",
   "execution_count": 49,
   "id": "8b6c3a7f",
   "metadata": {},
   "outputs": [
    {
     "name": "stdout",
     "output_type": "stream",
     "text": [
      "2970.4736842105262\n"
     ]
    }
   ],
   "source": [
    "print(df_Govmean)"
   ]
  },
  {
   "cell_type": "code",
   "execution_count": 27,
   "id": "207a9643",
   "metadata": {},
   "outputs": [],
   "source": [
    "df_Pvtmean = df[\"Pvt.Hospital\"].mean()"
   ]
  },
  {
   "cell_type": "code",
   "execution_count": 50,
   "id": "33f9e546",
   "metadata": {},
   "outputs": [
    {
     "name": "stdout",
     "output_type": "stream",
     "text": [
      "1310.657894736842\n"
     ]
    }
   ],
   "source": [
    "print(df_Pvtmean)"
   ]
  },
  {
   "cell_type": "code",
   "execution_count": 33,
   "id": "52831a5e",
   "metadata": {},
   "outputs": [],
   "source": [
    "tamilnadu = (\"df_Govmean,df_Pvtmean\")"
   ]
  },
  {
   "cell_type": "code",
   "execution_count": 59,
   "id": "c264eb53",
   "metadata": {},
   "outputs": [
    {
     "data": {
      "image/png": "[encoded data removed]",
      "text/plain": [
       "<Figure size 432x288 with 1 Axes>"
      ]
     },
     "metadata": {},
     "output_type": "display_data"
    }
   ],
   "source": [
    "x = [2970.4736842 ,1310.6578947]\n",
    "labels = ['Govt.hospitals', 'Pvt.hospitals']\n",
    "\n",
    "fig, ax = plt.subplots()\n",
    "ax.pie(x, labels = labels)\n",
    "plt.title('Beds available')\n",
    "plt.show()"
   ]
  },
  {
   "cell_type": "code",
   "execution_count": null,
   "id": "dd05face",
   "metadata": {},
   "outputs": [],
   "source": []
  }
 ],
 "metadata": {
  "kernelspec": {
   "display_name": "Python 3",
   "language": "python",
   "name": "python3"
  },
  "language_info": {
   "codemirror_mode": {
    "name": "ipython",
    "version": 3
   },
   "file_extension": ".py",
   "mimetype": "text/x-python",
   "name": "python",
   "nbconvert_exporter": "python",
   "pygments_lexer": "ipython3",
   "version": "3.8.8"
  }
 },
 "nbformat": 4,
 "nbformat_minor": 5
}
